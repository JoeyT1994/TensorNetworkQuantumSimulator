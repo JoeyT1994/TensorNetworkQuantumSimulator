{
 "cells": [
  {
   "cell_type": "code",
   "execution_count": null,
   "id": "b508750a-ded1-40c1-9b16-326ef2a2564c",
   "metadata": {},
   "outputs": [],
   "source": [
    "using TensorNetworkQuantumSimulator\n",
    "const TN = TensorNetworkQuantumSimulator\n",
    "\n",
    "using ITensorNetworks\n",
    "\n",
    "using NamedGraphs.NamedGraphGenerators: named_grid"
   ]
  },
  {
   "cell_type": "code",
   "execution_count": null,
   "id": "3dd1eb1b-2253-425e-8e87-8123f9789d09",
   "metadata": {
    "scrolled": true
   },
   "outputs": [],
   "source": [
    "nx = 5\n",
    "ny = 5\n",
    "\n",
    "# the graph is your main friend in working with the TNs\n",
    "g = named_grid((nx, ny))\n",
    "nq = length(vertices(g))"
   ]
  },
  {
   "cell_type": "code",
   "execution_count": 3,
   "id": "56473a6f-2ca4-469c-838f-cb1d4b291130",
   "metadata": {},
   "outputs": [],
   "source": [
    "dt = 0.05\n",
    "\n",
    "hx = 1.0\n",
    "hz = 0.8\n",
    "J = 0.5\n",
    "\n",
    "# pauli rotations are tuples like `(pauli_string, [site_labels], parameter)`\n",
    "layer = []\n",
    "append!(layer, (\"RX\", [v], 2*hx*dt) for v in vertices(g))\n",
    "append!(layer, (\"RZ\", [v], 2*hz*dt) for v in vertices(g))\n",
    "append!(layer, (\"RZZ\", pair, 2*J*dt) for pair in edges(g));"
   ]
  },
  {
   "cell_type": "code",
   "execution_count": null,
   "id": "273ff2f3-f55c-48a4-8d1f-c6ba3e83947f",
   "metadata": {},
   "outputs": [],
   "source": [
    "# observables are tuples like `(pauli_string, [site_labels], optional:coefficient)`\n",
    "# it's important that the `site_labels` match the names of the vertices of the graph `g`\n",
    "obs = (\"Z\", [(3, 3)])  # right in the middle"
   ]
  },
  {
   "cell_type": "code",
   "execution_count": null,
   "id": "97e62b8f-e3b4-4ae8-9085-e28a0e62bbfa",
   "metadata": {},
   "outputs": [],
   "source": [
    "# the number of circuit layers\n",
    "nl = 25"
   ]
  },
  {
   "cell_type": "code",
   "execution_count": null,
   "id": "42a46f00-9c53-493b-b932-4db0da47ab33",
   "metadata": {
    "scrolled": true
   },
   "outputs": [],
   "source": [
    "# the initial state\n",
    "ψ = zerostate(g)\n",
    "\n",
    "# an array to keep track of expectations\n",
    "expectations = Float64[real(expect(ψ, obs))]\n",
    "\n",
    "# evolve! The first evaluation will take significantly longer because of compulation.\n",
    "for l in 1:nl\n",
    "    #printing\n",
    "    println(\"Layer $l\")\n",
    "\n",
    "    # apply layer\n",
    "    t = @timed ψ, errors = apply(layer, ψ);\n",
    "\n",
    "    # push expectation to list\n",
    "    push!(expectations, real(expect(ψ, obs)))\n",
    "\n",
    "    # printing\n",
    "    println(\"    Took time: $(t.time) [s]. Max bond dimension: $(maxlinkdim(ψ))\")\n",
    "end"
   ]
  },
  {
   "cell_type": "code",
   "execution_count": null,
   "id": "9b9faa8d-162d-4244-8aef-30d5ccd6f1b5",
   "metadata": {},
   "outputs": [],
   "source": [
    "using Plots\n",
    "plot((0:nl) .* dt, expectations, xlabel=\"t\", ylabel=\"Expectation\", lw=2, label=\"Evaluate with belief propagation\")"
   ]
  },
  {
   "cell_type": "code",
   "execution_count": null,
   "id": "b32c65a6-e8b1-44e2-8124-aee61dd27c71",
   "metadata": {},
   "outputs": [],
   "source": []
  },
  {
   "cell_type": "code",
   "execution_count": 8,
   "id": "3af3987e-a45c-4a6e-9229-6985bda6bc35",
   "metadata": {},
   "outputs": [],
   "source": [
    "## A few more advanced options\n",
    "# we will still do exactly the same evolution but also do boundary mps for expectation values"
   ]
  },
  {
   "cell_type": "code",
   "execution_count": null,
   "id": "d639e470-b17e-42d2-a1d9-6a28e803ab79",
   "metadata": {},
   "outputs": [],
   "source": [
    "# max bond dimension for the TN\n",
    "# we will use enough and just see how\n",
    "apply_kwargs = (maxdim=10, cutoff=1e-10, normalize=false)\n",
    "\n",
    "# these kwargs are used every time the BP is updated, but you can pass other kwargs to individual functions \n",
    "set_global_bp_update_kwargs!(maxiter=25, tol=1e-6)\n",
    "set_global_boundarymps_update_kwargs!(message_update_kwargs = (; niters = 20, tolerance = 1e-10))"
   ]
  },
  {
   "cell_type": "code",
   "execution_count": null,
   "id": "833be3c7-d6ce-4146-8953-4d8dea8e50d8",
   "metadata": {
    "scrolled": true
   },
   "outputs": [],
   "source": [
    "# the initial state\n",
    "ψ = zerostate(g)\n",
    "\n",
    "# create the BP cache manually\n",
    "ψψ = build_bp_cache(ψ)\n",
    "\n",
    "# an array to keep track of expectations\n",
    "expectations_advanced = Float64[real(expect(ψ, obs))]\n",
    "boundarymps_rank = 4\n",
    "\n",
    "# evolve! The first evaluation will take significantly longer because of compulation.\n",
    "for l in 1:nl\n",
    "    println(\"Layer $l\")\n",
    "\n",
    "    # pass BP cache manually\n",
    "    t1 = @timed ψ, ψψ, errors = apply(layer, ψ, ψψ; apply_kwargs, verbose=false);\n",
    "    \n",
    "    ## could also update outside \n",
    "    # t2 = @timed ψψ = updatecache(ψψ)\n",
    "\n",
    "    # push expectation to list\n",
    "    # pass the cache instead of the state so that things don't have to update over and over\n",
    "    push!(expectations_advanced, real(expect(ψ, obs; alg = \"boundarymps\", cache_construction_kwargs =(; message_rank = boundarymps_rank))))  # with some boundary mps correction\n",
    "\n",
    "    \n",
    "    println(\"    Took time: $(t1.time) [s]. Max bond dimension: $(maxlinkdim(ψ))\")\n",
    "end"
   ]
  },
  {
   "cell_type": "code",
   "execution_count": null,
   "id": "89d0a34f-39ed-4d90-8a2d-d3324e516cc2",
   "metadata": {},
   "outputs": [],
   "source": [
    "plot((0:nl) .* dt, expectations, xlabel=\"t\", ylabel=\"Expectation\", lw=2, label=\"Evaluate with belief propagation\")\n",
    "plot!((0:nl) .* dt, expectations_advanced, lw=2, label=\"With some boundary mps rank $boundarymps_rank\")"
   ]
  },
  {
   "cell_type": "code",
   "execution_count": null,
   "id": "ce2063cd-8acc-4e44-9764-9ae436c2163b",
   "metadata": {},
   "outputs": [],
   "source": []
  }
 ],
 "metadata": {
  "kernelspec": {
   "display_name": "Julia 1.11.2",
   "language": "julia",
   "name": "julia-1.11"
  },
  "language_info": {
   "file_extension": ".jl",
   "mimetype": "application/julia",
   "name": "julia",
   "version": "1.11.2"
  }
 },
 "nbformat": 4,
 "nbformat_minor": 5
}
